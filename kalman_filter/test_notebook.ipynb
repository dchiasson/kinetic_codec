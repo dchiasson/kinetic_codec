{
 "cells": [
  {
   "cell_type": "code",
   "execution_count": 3,
   "metadata": {},
   "outputs": [
    {
     "name": "stderr",
     "output_type": "stream",
     "text": [
      "/home/chiasson/.local/lib/python3.6/site-packages/quaternion/numba_wrapper.py:20: UserWarning: \n",
      "\n",
      "!!!!!!!!!!!!!!!!!!!!!!!!!!!!!!!!!!!!!!!!!!!!!!!!!!!!!\n",
      "Could not import from numba, which means that some\n",
      "parts of this code may run MUCH more slowly.  You\n",
      "may wish to install numba.\n",
      "!!!!!!!!!!!!!!!!!!!!!!!!!!!!!!!!!!!!!!!!!!!!!!!!!!!!!\n",
      "\n",
      "  warnings.warn(warning_text)\n"
     ]
    }
   ],
   "source": [
    "import sys\n",
    "import csv\n",
    "import matplotlib.pyplot as plt\n",
    "import numpy as np\n",
    "import quaternion\n",
    "import scipy.fftpack\n",
    "%matplotlib tk"
   ]
  },
  {
   "cell_type": "code",
   "execution_count": 8,
   "metadata": {},
   "outputs": [],
   "source": [
    "file_name='rot_only_trial.csv'\n",
    "ACCEL_FIX = 100\n",
    "GYRO_FIX = 16\n",
    "[a_x, a_y, a_z, g_x, g_y, g_z] = [[] for i in range(6)]\n",
    "with open(file_name, 'r') as csvfile:\n",
    "    reader = csv.reader(csvfile, delimiter=',')\n",
    "    _ = next(reader)\n",
    "    _ = next(reader)\n",
    "    _ = next(reader)\n",
    "    header = next(reader)\n",
    "    for row in reader:\n",
    "        n = 9\n",
    "        a_x.append(float(row[0+n]))\n",
    "        a_y.append(float(row[1+n]))\n",
    "        a_z.append(float(row[2+n]))\n",
    "        g_x.append(float(row[3+n]))\n",
    "        g_y.append(float(row[4+n]))\n",
    "        g_z.append(float(row[5+n]))\n"
   ]
  },
  {
   "cell_type": "code",
   "execution_count": 10,
   "metadata": {
    "scrolled": true
   },
   "outputs": [
    {
     "name": "stderr",
     "output_type": "stream",
     "text": [
      "/home/chiasson/.local/lib/python3.6/site-packages/ipykernel_launcher.py:3: DeprecationWarning: object of type <class 'float'> cannot be safely interpreted as an integer.\n",
      "  This is separate from the ipykernel package so we can avoid doing imports until\n"
     ]
    },
    {
     "data": {
      "text/plain": [
       "[<matplotlib.lines.Line2D at 0x7f856af19710>]"
      ]
     },
     "execution_count": 10,
     "metadata": {},
     "output_type": "execute_result"
    }
   ],
   "source": [
    "N = len(a_x)\n",
    "T = 1.0/100.0\n",
    "xf = np.linspace(0.0, 1/(2.0*T), N/2)\n",
    "plt.figure(1)\n",
    "plt.subplot(6,1,1)\n",
    "plt.plot(np.abs(scipy.fftpack.fft(a_x)[:N//2]))\n",
    "plt.subplot(6,1,2)\n",
    "plt.plot(np.abs(scipy.fftpack.fft(a_y)[:N//2]))\n",
    "plt.subplot(6,1,3)\n",
    "plt.plot(np.abs(scipy.fftpack.fft(a_z)[:N//2]))\n",
    "plt.subplot(6,1,4)\n",
    "plt.plot(np.abs(scipy.fftpack.fft(g_x)[:N//2]))\n",
    "plt.subplot(6,1,5)\n",
    "plt.plot(np.abs(scipy.fftpack.fft(g_y)[:N//2]))\n",
    "plt.subplot(6,1,6)\n",
    "plt.plot(np.abs(scipy.fftpack.fft(g_z)[:N//2]))"
   ]
  },
  {
   "cell_type": "code",
   "execution_count": 11,
   "metadata": {},
   "outputs": [
    {
     "name": "stdout",
     "output_type": "stream",
     "text": [
      "test\n"
     ]
    }
   ],
   "source": [
    "print(\"test\")"
   ]
  },
  {
   "cell_type": "code",
   "execution_count": 12,
   "metadata": {},
   "outputs": [
    {
     "data": {
      "text/plain": [
       "[<matplotlib.lines.Line2D at 0x7f856ad60e48>]"
      ]
     },
     "execution_count": 12,
     "metadata": {},
     "output_type": "execute_result"
    }
   ],
   "source": [
    "plt.figure(2)\n",
    "plt.subplot(6,1,1)\n",
    "plt.plot(a_x)\n",
    "plt.subplot(6,1,2)\n",
    "plt.plot(a_y)\n",
    "plt.subplot(6,1,3)\n",
    "plt.plot(a_z)\n",
    "plt.subplot(6,1,4)\n",
    "plt.plot(g_x)\n",
    "plt.subplot(6,1,5)\n",
    "plt.plot(g_y)\n",
    "plt.subplot(6,1,6)\n",
    "plt.plot(g_z)"
   ]
  },
  {
   "cell_type": "code",
   "execution_count": 13,
   "metadata": {},
   "outputs": [
    {
     "data": {
      "text/plain": [
       "[<matplotlib.lines.Line2D at 0x7f856aadbd68>]"
      ]
     },
     "execution_count": 13,
     "metadata": {},
     "output_type": "execute_result"
    }
   ],
   "source": [
    "N = len(a_x)\n",
    "plt.figure(3)\n",
    "plt.subplot(6,1,1)\n",
    "plt.plot([a_x[n] - a_x[n-1] for n in range(1, N)])\n",
    "plt.subplot(6,1,2)\n",
    "plt.plot([a_y[n] - a_y[n-1] for n in range(1, N)])\n",
    "plt.subplot(6,1,3)\n",
    "plt.plot([a_z[n] - a_z[n-1] for n in range(1, N)])\n",
    "plt.subplot(6,1,4)\n",
    "plt.plot([g_x[n] - g_x[n-1] for n in range(1, N)])\n",
    "plt.subplot(6,1,5)\n",
    "plt.plot([g_y[n] - g_y[n-1] for n in range(1, N)])\n",
    "plt.subplot(6,1,6)\n",
    "plt.plot([g_z[n] - g_z[n-1] for n in range(1, N)])\n"
   ]
  },
  {
   "cell_type": "code",
   "execution_count": null,
   "metadata": {},
   "outputs": [],
   "source": []
  }
 ],
 "metadata": {
  "kernelspec": {
   "display_name": "Python 3",
   "language": "python",
   "name": "python3"
  },
  "language_info": {
   "codemirror_mode": {
    "name": "ipython",
    "version": 3
   },
   "file_extension": ".py",
   "mimetype": "text/x-python",
   "name": "python",
   "nbconvert_exporter": "python",
   "pygments_lexer": "ipython3",
   "version": "3.6.8"
  }
 },
 "nbformat": 4,
 "nbformat_minor": 2
}
